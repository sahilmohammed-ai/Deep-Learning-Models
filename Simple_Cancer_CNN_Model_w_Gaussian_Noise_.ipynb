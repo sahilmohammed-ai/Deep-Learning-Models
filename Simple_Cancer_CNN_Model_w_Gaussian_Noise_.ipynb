{
  "nbformat": 4,
  "nbformat_minor": 0,
  "metadata": {
    "colab": {
      "provenance": [],
      "authorship_tag": "ABX9TyOcBomG0gLI2yETPs9534NW",
      "include_colab_link": true
    },
    "kernelspec": {
      "name": "python3",
      "display_name": "Python 3"
    },
    "language_info": {
      "name": "python"
    }
  },
  "cells": [
    {
      "cell_type": "markdown",
      "metadata": {
        "id": "view-in-github",
        "colab_type": "text"
      },
      "source": [
        "<a href=\"https://colab.research.google.com/github/sahilmohammed-ai/Deep-Learning-Models/blob/main/Simple_Cancer_CNN_Model_w_Gaussian_Noise_.ipynb\" target=\"_parent\"><img src=\"https://colab.research.google.com/assets/colab-badge.svg\" alt=\"Open In Colab\"/></a>"
      ]
    },
    {
      "cell_type": "markdown",
      "source": [
        "##Initialization"
      ],
      "metadata": {
        "id": "IqlFffroRtu9"
      }
    },
    {
      "cell_type": "code",
      "execution_count": 1,
      "metadata": {
        "id": "ocUI7Jfg6WDV",
        "colab": {
          "base_uri": "https://localhost:8080/"
        },
        "outputId": "0a143ce6-1da8-43b6-c4dc-12ff2481f24c"
      },
      "outputs": [
        {
          "output_type": "stream",
          "name": "stdout",
          "text": [
            "\u001b[2K   \u001b[90m━━━━━━━━━━━━━━━━━━━━━━━━━━━━━━━━━━━━━━━━\u001b[0m \u001b[32m363.4/363.4 MB\u001b[0m \u001b[31m4.3 MB/s\u001b[0m eta \u001b[36m0:00:00\u001b[0m\n",
            "\u001b[2K   \u001b[90m━━━━━━━━━━━━━━━━━━━━━━━━━━━━━━━━━━━━━━━━\u001b[0m \u001b[32m13.8/13.8 MB\u001b[0m \u001b[31m61.0 MB/s\u001b[0m eta \u001b[36m0:00:00\u001b[0m\n",
            "\u001b[2K   \u001b[90m━━━━━━━━━━━━━━━━━━━━━━━━━━━━━━━━━━━━━━━━\u001b[0m \u001b[32m24.6/24.6 MB\u001b[0m \u001b[31m19.2 MB/s\u001b[0m eta \u001b[36m0:00:00\u001b[0m\n",
            "\u001b[2K   \u001b[90m━━━━━━━━━━━━━━━━━━━━━━━━━━━━━━━━━━━━━━━━\u001b[0m \u001b[32m883.7/883.7 kB\u001b[0m \u001b[31m13.9 MB/s\u001b[0m eta \u001b[36m0:00:00\u001b[0m\n",
            "\u001b[2K   \u001b[90m━━━━━━━━━━━━━━━━━━━━━━━━━━━━━━━━━━━━━━━━\u001b[0m \u001b[32m664.8/664.8 MB\u001b[0m \u001b[31m2.4 MB/s\u001b[0m eta \u001b[36m0:00:00\u001b[0m\n",
            "\u001b[2K   \u001b[90m━━━━━━━━━━━━━━━━━━━━━━━━━━━━━━━━━━━━━━━━\u001b[0m \u001b[32m211.5/211.5 MB\u001b[0m \u001b[31m5.4 MB/s\u001b[0m eta \u001b[36m0:00:00\u001b[0m\n",
            "\u001b[2K   \u001b[90m━━━━━━━━━━━━━━━━━━━━━━━━━━━━━━━━━━━━━━━━\u001b[0m \u001b[32m56.3/56.3 MB\u001b[0m \u001b[31m12.1 MB/s\u001b[0m eta \u001b[36m0:00:00\u001b[0m\n",
            "\u001b[2K   \u001b[90m━━━━━━━━━━━━━━━━━━━━━━━━━━━━━━━━━━━━━━━━\u001b[0m \u001b[32m127.9/127.9 MB\u001b[0m \u001b[31m7.4 MB/s\u001b[0m eta \u001b[36m0:00:00\u001b[0m\n",
            "\u001b[2K   \u001b[90m━━━━━━━━━━━━━━━━━━━━━━━━━━━━━━━━━━━━━━━━\u001b[0m \u001b[32m207.5/207.5 MB\u001b[0m \u001b[31m5.6 MB/s\u001b[0m eta \u001b[36m0:00:00\u001b[0m\n",
            "\u001b[2K   \u001b[90m━━━━━━━━━━━━━━━━━━━━━━━━━━━━━━━━━━━━━━━━\u001b[0m \u001b[32m21.1/21.1 MB\u001b[0m \u001b[31m81.2 MB/s\u001b[0m eta \u001b[36m0:00:00\u001b[0m\n",
            "\u001b[?25h"
          ]
        }
      ],
      "source": [
        "!pip install kagglehub transformers timm -q\n",
        "\n",
        "import os\n",
        "import shutil\n",
        "import matplotlib.pyplot as plt\n",
        "import torch\n",
        "import torch.nn as nn\n",
        "import torch.optim as optim\n",
        "from torchvision import datasets, transforms\n",
        "from torch.utils.data import DataLoader\n",
        "from sklearn.metrics import confusion_matrix, ConfusionMatrixDisplay\n",
        "import numpy as np"
      ]
    },
    {
      "cell_type": "code",
      "source": [
        "import kagglehub\n",
        "path = kagglehub.dataset_download(\"obulisainaren/multi-cancer\")\n",
        "print(\"Path to dataset files:\", path)"
      ],
      "metadata": {
        "colab": {
          "base_uri": "https://localhost:8080/"
        },
        "id": "woFrqN3SQeIz",
        "outputId": "c9c20b92-f24e-41b6-9157-67db1135e226"
      },
      "execution_count": 2,
      "outputs": [
        {
          "output_type": "stream",
          "name": "stdout",
          "text": [
            "Path to dataset files: /kaggle/input/multi-cancer\n"
          ]
        }
      ]
    },
    {
      "cell_type": "code",
      "source": [
        "# Explore file directory structure\n",
        "!ls \"$path\"\n",
        "%cd \"$path/Multi Cancer/Multi Cancer/Breast Cancer\"\n",
        "!ls"
      ],
      "metadata": {
        "colab": {
          "base_uri": "https://localhost:8080/"
        },
        "id": "eagZg-EnQhZs",
        "outputId": "725fb5eb-33e7-47cb-d861-6527dba6df17"
      },
      "execution_count": 3,
      "outputs": [
        {
          "output_type": "stream",
          "name": "stdout",
          "text": [
            "'Multi Cancer'\t README.md\n",
            "/kaggle/input/multi-cancer/Multi Cancer/Multi Cancer/Breast Cancer\n",
            "breast_benign  breast_malignant\n"
          ]
        }
      ]
    },
    {
      "cell_type": "code",
      "source": [
        "%rm -rf \"/content/multi-cancer-subset\""
      ],
      "metadata": {
        "id": "_ZwZh-NBQlXF"
      },
      "execution_count": 4,
      "outputs": []
    },
    {
      "cell_type": "code",
      "source": [
        "# Assume we want to focus on \"Breast Cancer\"\n",
        "# We'll create a subset for demonstration purposes\n",
        "# Make an easily accessible directory to store our subset\n",
        "subset_dir = \"/content/multi-cancer-subset\"\n",
        "os.makedirs(os.path.join(subset_dir),exist_ok=True)\n",
        "\n",
        "train_dir = os.path.join(subset_dir, \"train\")\n",
        "val_dir = os.path.join(subset_dir, \"val\")\n",
        "\n",
        "# Create the necessary directories\n",
        "os.makedirs(os.path.join(train_dir, \"breast_benign\"), exist_ok=True)\n",
        "os.makedirs(os.path.join(train_dir, \"breast_malignant\"), exist_ok=True)\n",
        "os.makedirs(os.path.join(val_dir, \"breast_benign\"), exist_ok=True)\n",
        "os.makedirs(os.path.join(val_dir, \"breast_malignant\"), exist_ok=True)"
      ],
      "metadata": {
        "id": "cAxqcLxsQosl"
      },
      "execution_count": 5,
      "outputs": []
    },
    {
      "cell_type": "code",
      "source": [
        "# Prepare to a small number of images from the original dataset to local directory paths\n",
        "breast_benign_path = os.path.join(path, \"Multi Cancer/Multi Cancer/Breast Cancer\", \"breast_benign\")\n",
        "breast_malignant_path = os.path.join(path, \"Multi Cancer/Multi Cancer/Breast Cancer\", \"breast_malignant\")"
      ],
      "metadata": {
        "id": "gUS9n1qZQswe"
      },
      "execution_count": 6,
      "outputs": []
    },
    {
      "cell_type": "code",
      "source": [
        "# Get image files\n",
        "benign_images = sorted([f for f in os.listdir(breast_benign_path) if f.endswith(\".jpg\")])\n",
        "malignant_images = sorted([f for f in os.listdir(breast_malignant_path) if f.endswith(\".jpg\")])\n",
        "\n",
        "# Copy images (using only a small subset)\n",
        "# Let's take 20 images for train and 10 for val from each class.\n",
        "# You can change the proportion of valuation data out of total data.\n",
        "\n",
        "\n",
        "for img in benign_images[:20]:\n",
        "    shutil.copy(os.path.join(breast_benign_path, img), os.path.join(train_dir, \"breast_benign\"))\n",
        "for img in benign_images[-10:]:\n",
        "    shutil.copy(os.path.join(breast_benign_path, img), os.path.join(val_dir, \"breast_benign\"))\n",
        "\n",
        "for img in malignant_images[:20]:\n",
        "    shutil.copy(os.path.join(breast_malignant_path, img), os.path.join(train_dir, \"breast_malignant\"))\n",
        "for img in malignant_images[-10:]:\n",
        "    shutil.copy(os.path.join(breast_malignant_path, img), os.path.join(val_dir, \"breast_malignant\"))\n",
        "\n",
        "\n",
        "# # HINT: For making the portion sizing more ubiguitous\n",
        "# val_data_proportion = 0.2\n",
        "# num_benign_data = len(benign_images)\n",
        "# num_malignant_data = len(malignant_images)"
      ],
      "metadata": {
        "id": "sSHti1zXQv8H"
      },
      "execution_count": 7,
      "outputs": []
    },
    {
      "cell_type": "code",
      "source": [
        "print(\"Created a small train/val subset in:\", subset_dir)"
      ],
      "metadata": {
        "colab": {
          "base_uri": "https://localhost:8080/"
        },
        "id": "0NbJzrysQyVw",
        "outputId": "49e64652-9c5e-4111-89d8-c243a450da7f"
      },
      "execution_count": 8,
      "outputs": [
        {
          "output_type": "stream",
          "name": "stdout",
          "text": [
            "Created a small train/val subset in: /content/multi-cancer-subset\n"
          ]
        }
      ]
    },
    {
      "cell_type": "code",
      "source": [
        "device = torch.device(\"cuda\" if torch.cuda.is_available() else \"cpu\")\n",
        "print(\"Using device:\", device)"
      ],
      "metadata": {
        "colab": {
          "base_uri": "https://localhost:8080/"
        },
        "id": "JkdOGOSMRjA_",
        "outputId": "c6eb7fde-0ebf-4b84-ea9d-053548bd4379"
      },
      "execution_count": 9,
      "outputs": [
        {
          "output_type": "stream",
          "name": "stdout",
          "text": [
            "Using device: cpu\n"
          ]
        }
      ]
    },
    {
      "cell_type": "markdown",
      "source": [
        "## CNN Model\n"
      ],
      "metadata": {
        "id": "My7_PjkmR0YJ"
      }
    },
    {
      "cell_type": "code",
      "source": [
        "# 0. Experiment with augmentation techniques\n",
        "train_transforms = transforms.Compose([\n",
        "    transforms.Resize((224, 224)),\n",
        "    transforms.RandomRotation(10),\n",
        "    transforms.RandomHorizontalFlip(),\n",
        "    transforms.RandomResizedCrop(224),\n",
        "    transforms.CenterCrop(224),\n",
        "    transforms.ColorJitter(brightness=0.2, contrast=0.2, saturation=0.2, hue=0.1),\n",
        "    transforms.GaussianBlur(kernel_size=(5, 9), sigma=(0.1, 5)),\n",
        "    transforms.ToTensor(), # Convert to Tensor BEFORE RandomErasing\n",
        "    transforms.Normalize((0.5, 0.5, 0.5), (0.5, 0.5, 0.5)),\n",
        "    transforms.RandomErasing(p=0.5, scale=(0.02, 0.33), ratio=(0.3, 3.3), value=0, inplace=False) # Apply RandomErasing AFTER ToTensor\n",
        "])\n",
        "\n",
        "val_transforms = transforms.Compose([\n",
        "    transforms.Resize((224, 224)),\n",
        "    transforms.CenterCrop(224),\n",
        "    transforms.ToTensor(),\n",
        "    transforms.Normalize((0.5, 0.5, 0.5), (0.5, 0.5, 0.5))\n",
        "])"
      ],
      "metadata": {
        "id": "2RolmMcEQ4Wo"
      },
      "execution_count": 17,
      "outputs": []
    },
    {
      "cell_type": "code",
      "source": [
        "# Create datasets from the subset directories\n",
        "train_dataset = datasets.ImageFolder(train_dir, transform=train_transforms)\n",
        "val_dataset = datasets.ImageFolder(val_dir, transform=val_transforms)\n",
        "\n",
        "train_loader = DataLoader(train_dataset, batch_size=8, shuffle=True)\n",
        "val_loader = DataLoader(val_dataset, batch_size=8, shuffle=False)\n",
        "\n",
        "class_names = train_dataset.classes\n",
        "print(\"Classes:\", class_names)"
      ],
      "metadata": {
        "colab": {
          "base_uri": "https://localhost:8080/"
        },
        "id": "4rk9yrVXSeYV",
        "outputId": "733bcfbc-d4f2-4191-8b8d-bc4937495039"
      },
      "execution_count": 18,
      "outputs": [
        {
          "output_type": "stream",
          "name": "stdout",
          "text": [
            "Classes: ['breast_benign', 'breast_malignant']\n"
          ]
        }
      ]
    },
    {
      "cell_type": "code",
      "source": [
        "# 1. Defining a new CNN model with Gaussian Noise\n",
        "class  SimpleCNNGaussianNoise(nn.Module):\n",
        "    def __init__(self, num_classes=2):\n",
        "        super(SimpleCNNGaussianNoise, self).__init__()\n",
        "        self.conv1 = nn.Conv2d(3, 32, kernel_size=3, padding=1)\n",
        "        self.conv2 = nn.Conv2d(32, 64, kernel_size=3, padding=1)\n",
        "        self.pool = nn.MaxPool2d(2, 2)\n",
        "\n",
        "\n",
        "        self.gaussian_noise = nn.Sequential(\n",
        "            transforms.RandomPerspective(distortion_scale=0.3, p=0.5),\n",
        "            transforms.RandomRotation(15)\n",
        "        )\n",
        "\n",
        "        self.fc1 = nn.Linear(64 * 56 * 56, 256)\n",
        "        self.fc2 = nn.Linear(256, num_classes)\n",
        "        self.dropout = nn.Dropout(0.5)\n",
        "\n",
        "    def forward(self, x):\n",
        "        x = self.pool(torch.relu(self.conv1(x)))\n",
        "        x = self.pool(torch.relu(self.conv2(x)))\n",
        "\n",
        "\n",
        "        if self.training:\n",
        "            x = self.gaussian_noise(x)\n",
        "\n",
        "        x = x.view(-1, 64 * 56 * 56)\n",
        "        x = torch.relu(self.fc1(x))\n",
        "        x = self.dropout(x)\n",
        "        x = self.fc2(x)\n",
        "        return x\n",
        "\n",
        "gaussian_noise_model = SimpleCNNGaussianNoise(num_classes=len(class_names)).to(device)\n",
        "print(gaussian_noise_model)"
      ],
      "metadata": {
        "colab": {
          "base_uri": "https://localhost:8080/"
        },
        "id": "Mur4i8KBQ5Gk",
        "outputId": "f72ae061-73d0-46c4-e444-3f305e57e11e"
      },
      "execution_count": 67,
      "outputs": [
        {
          "output_type": "stream",
          "name": "stdout",
          "text": [
            "SimpleCNNGaussianNoise(\n",
            "  (conv1): Conv2d(3, 32, kernel_size=(3, 3), stride=(1, 1), padding=(1, 1))\n",
            "  (conv2): Conv2d(32, 64, kernel_size=(3, 3), stride=(1, 1), padding=(1, 1))\n",
            "  (pool): MaxPool2d(kernel_size=2, stride=2, padding=0, dilation=1, ceil_mode=False)\n",
            "  (gaussian_noise): Sequential(\n",
            "    (0): RandomPerspective(p=0.5)\n",
            "    (1): RandomRotation(degrees=[-15.0, 15.0], interpolation=nearest, expand=False, fill=0)\n",
            "  )\n",
            "  (fc1): Linear(in_features=200704, out_features=256, bias=True)\n",
            "  (fc2): Linear(in_features=256, out_features=2, bias=True)\n",
            "  (dropout): Dropout(p=0.5, inplace=False)\n",
            ")\n"
          ]
        }
      ]
    },
    {
      "cell_type": "code",
      "source": [
        "# 2. Train new model using the train_and_validate function\n",
        "import matplotlib.pyplot as plt\n",
        "\n",
        "# Function to train and validate a model, returning history of losses and accuracies\n",
        "def train_and_validate(model, optimizer, criterion, train_loader, val_loader, num_epochs=2, device='cpu', model_name='Model'):\n",
        "    train_losses = []\n",
        "    train_accuracies = []\n",
        "    val_losses = []\n",
        "    val_accuracies = []\n",
        "\n",
        "    for epoch in range(num_epochs):\n",
        "        # Training phase\n",
        "        model.train()\n",
        "        running_loss = 0.0\n",
        "        running_corrects = 0\n",
        "        total = 0\n",
        "\n",
        "        for inputs, labels in train_loader:\n",
        "            inputs, labels = inputs.to(device), labels.to(device)\n",
        "            optimizer.zero_grad()\n",
        "            outputs = model(inputs)\n",
        "            loss = criterion(outputs, labels)\n",
        "            loss.backward()\n",
        "            optimizer.step()\n",
        "\n",
        "            _, preds = torch.max(outputs, 1)\n",
        "            running_loss += loss.item() * inputs.size(0)\n",
        "            running_corrects += torch.sum(preds == labels).item()\n",
        "            total += labels.size(0)\n",
        "\n",
        "        # TODO\n",
        "        epoch_loss = running_loss / total\n",
        "        epoch_acc = running_corrects / total\n",
        "        # ENDTODO\n",
        "\n",
        "        train_losses.append(epoch_loss)\n",
        "        train_accuracies.append(epoch_acc)\n",
        "\n",
        "        # Validation phase\n",
        "        model.eval()\n",
        "        val_running_loss = 0.0\n",
        "        val_running_corrects = 0\n",
        "        val_total = 0\n",
        "        with torch.no_grad():\n",
        "            for inputs, labels in val_loader:\n",
        "                inputs, labels = inputs.to(device), labels.to(device)\n",
        "                outputs = model(inputs)\n",
        "                loss = criterion(outputs, labels)\n",
        "                _, preds = torch.max(outputs, 1)\n",
        "                val_running_loss += loss.item() * inputs.size(0)\n",
        "                val_running_corrects += torch.sum(preds == labels).item()\n",
        "                val_total += labels.size(0)\n",
        "\n",
        "        # TODO\n",
        "        val_loss = val_running_loss / val_total\n",
        "        val_acc = val_running_corrects / val_total\n",
        "        # ENDTODO\n",
        "\n",
        "        val_losses.append(val_loss)\n",
        "        val_accuracies.append(val_acc)\n",
        "\n",
        "        print(f\"[{model_name}] Epoch {epoch+1}/{num_epochs} - \"\n",
        "              f\"Train Loss: {epoch_loss:.4f}, Train Acc: {epoch_acc:.4f}, \"\n",
        "              f\"Val Loss: {val_loss:.4f}, Val Acc: {val_acc:.4f}\")\n",
        "\n",
        "    return {\n",
        "        'train_loss': train_losses,\n",
        "        'train_acc': train_accuracies,\n",
        "        'val_loss': val_losses,\n",
        "        'val_acc': val_accuracies\n",
        "    }\n",
        "\n",
        "\n",
        "\n",
        "cnn_bn_optimizer = optim.Adam(gaussian_noise_model.parameters(), lr=0.001)\n",
        "cnn_bn_criterion = nn.CrossEntropyLoss()\n",
        "cnn_bn_num_epochs = 10\n",
        "\n",
        "cnn_bn_history = train_and_validate(gaussian_noise_model, cnn_bn_optimizer, cnn_bn_criterion,\n",
        "                                    train_loader, val_loader,\n",
        "                                    num_epochs=cnn_bn_num_epochs, device=device, model_name=\"CNN+BN\")\n"
      ],
      "metadata": {
        "colab": {
          "base_uri": "https://localhost:8080/"
        },
        "id": "0cUdA50dRADD",
        "outputId": "4d282de9-7056-4c64-c5fd-e498038f844a"
      },
      "execution_count": 68,
      "outputs": [
        {
          "output_type": "stream",
          "name": "stdout",
          "text": [
            "[CNN+BN] Epoch 1/10 - Train Loss: 2.0091, Train Acc: 0.5000, Val Loss: 1.3141, Val Acc: 0.6000\n",
            "[CNN+BN] Epoch 2/10 - Train Loss: 1.2368, Train Acc: 0.5750, Val Loss: 2.0255, Val Acc: 0.5000\n",
            "[CNN+BN] Epoch 3/10 - Train Loss: 0.4896, Train Acc: 0.7000, Val Loss: 1.5150, Val Acc: 0.4000\n",
            "[CNN+BN] Epoch 4/10 - Train Loss: 0.4997, Train Acc: 0.7750, Val Loss: 1.5286, Val Acc: 0.4500\n",
            "[CNN+BN] Epoch 5/10 - Train Loss: 0.3292, Train Acc: 0.9500, Val Loss: 3.7766, Val Acc: 0.5000\n",
            "[CNN+BN] Epoch 6/10 - Train Loss: 0.3696, Train Acc: 0.8000, Val Loss: 2.4566, Val Acc: 0.5500\n",
            "[CNN+BN] Epoch 7/10 - Train Loss: 0.1265, Train Acc: 1.0000, Val Loss: 2.2436, Val Acc: 0.4500\n",
            "[CNN+BN] Epoch 8/10 - Train Loss: 0.3304, Train Acc: 0.8500, Val Loss: 3.5247, Val Acc: 0.5000\n",
            "[CNN+BN] Epoch 9/10 - Train Loss: 0.4729, Train Acc: 0.8250, Val Loss: 10.0142, Val Acc: 0.5000\n",
            "[CNN+BN] Epoch 10/10 - Train Loss: 0.7523, Train Acc: 0.7750, Val Loss: 5.1542, Val Acc: 0.5500\n"
          ]
        }
      ]
    },
    {
      "cell_type": "code",
      "source": [
        "# 3. Evaluate the new model\n",
        "gaussian_noise_model.eval()\n",
        "val_running_corrects = 0\n",
        "val_total = 0\n",
        "gaussian_noise_all_preds = []\n",
        "gaussian_noise_all_labels = []\n",
        "\n",
        "with torch.no_grad():\n",
        "    for inputs, labels in val_loader:\n",
        "        inputs, labels = inputs.to(device), labels.to(device)\n",
        "        outputs = gaussian_noise_model(inputs)\n",
        "        _, preds = torch.max(outputs, 1)\n",
        "        val_running_corrects += torch.sum(preds == labels).item()\n",
        "        val_total += labels.size(0)\n",
        "        gaussian_noise_all_preds.append(preds.cpu().numpy())\n",
        "        gaussian_noise_all_labels.append(labels.cpu().numpy())\n",
        "\n",
        "gaussian_noise_val_acc = val_running_corrects / val_total\n",
        "print(f\"[CNN with Noise] Validation Accuracy: {gaussian_noise_val_acc:.4f}\")\n",
        "\n",
        "gaussian_noise_all_preds = np.concatenate(gaussian_noise_all_preds)\n",
        "gaussian_noise_all_labels = np.concatenate(gaussian_noise_all_labels)"
      ],
      "metadata": {
        "colab": {
          "base_uri": "https://localhost:8080/"
        },
        "id": "oBl-qvobRB8r",
        "outputId": "e9864f7c-41c2-4fb1-ebc3-27171a217ae3"
      },
      "execution_count": 69,
      "outputs": [
        {
          "output_type": "stream",
          "name": "stdout",
          "text": [
            "[CNN with Noise] Validation Accuracy: 0.5500\n"
          ]
        }
      ]
    },
    {
      "cell_type": "code",
      "source": [
        "# 4. Graphing the performance of the model (using the plotting function)\n",
        "\n",
        "plt.figure(figsize=(12, 6))\n",
        "plt.subplot(1, 2, 1)\n",
        "plt.plot(cnn_bn_history['train_loss'], label='CNN+Noise Train Loss', marker='^')\n",
        "plt.plot(cnn_bn_history['val_loss'], label='CNN+Noise Val Loss', marker='^')\n",
        "plt.title('Training and Validation Loss')\n",
        "plt.xlabel('Epoch')\n",
        "plt.ylabel('Loss')\n",
        "plt.legend()\n",
        "\n",
        "plt.subplot(1, 2, 2)\n",
        "plt.plot(cnn_bn_history['train_acc'], label='CNN+Noise Train Acc', marker='^')\n",
        "plt.plot(cnn_bn_history['val_acc'], label='CNN+Noise Val Acc', marker='^')\n",
        "plt.title('Training and Validation Accuracy')\n",
        "plt.xlabel('Epoch')\n",
        "plt.ylabel('Accuracy')\n",
        "plt.legend()\n",
        "\n",
        "plt.tight_layout()\n",
        "plt.show()"
      ],
      "metadata": {
        "colab": {
          "base_uri": "https://localhost:8080/",
          "height": 607
        },
        "id": "97ygjE-0RLez",
        "outputId": "4ca01d89-17b6-4655-e330-4f0244d1bcd1"
      },
      "execution_count": 70,
      "outputs": [
        {
          "output_type": "display_data",
          "data": {
            "text/plain": [
              "<Figure size 1200x600 with 2 Axes>"
            ],
            "image/png": "[encoded data removed]"
          },
          "metadata": {}
        }
      ]
    }
  ]
}